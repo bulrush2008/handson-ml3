{
 "cells": [
  {
   "cell_type": "code",
   "execution_count": 11,
   "metadata": {},
   "outputs": [
    {
     "name": "stdout",
     "output_type": "stream",
     "text": [
      "test_Path <class 'pathlib.WindowsPath'>\n",
      "True\n",
      "test_Path\\demo.dat\n",
      "test_Path\\s01.dat\n",
      "False\n",
      "True\n",
      "False\n"
     ]
    }
   ],
   "source": [
    "from pathlib import Path\n",
    "\n",
    "dir = \"./test_Path\"\n",
    "p = Path(dir)\n",
    "\n",
    "print(p, type(p))\n",
    "print(p.exists())\n",
    "\n",
    "filePath = p / \"demo.dat\"\n",
    "print(filePath)\n",
    "if filePath.exists(): filePath.unlink()\n",
    "\n",
    "file2Path = p / \"s01.dat\"\n",
    "print(file2Path)\n",
    "print(file2Path.exists())\n",
    "\n",
    "if not p.exists():\n",
    "  p.mkdir() # create a dir\n",
    "  pass\n",
    "\n",
    "#type(p)\n",
    "print(p.is_dir())\n",
    "print(p.is_file())"
   ]
  },
  {
   "cell_type": "code",
   "execution_count": 12,
   "metadata": {},
   "outputs": [],
   "source": [
    "p = Path(dir)\n",
    "if p.exists():\n",
    "  p.rmdir() # rm the dir"
   ]
  }
 ],
 "metadata": {
  "kernelspec": {
   "display_name": "GeronE3",
   "language": "python",
   "name": "python3"
  },
  "language_info": {
   "codemirror_mode": {
    "name": "ipython",
    "version": 3
   },
   "file_extension": ".py",
   "mimetype": "text/x-python",
   "name": "python",
   "nbconvert_exporter": "python",
   "pygments_lexer": "ipython3",
   "version": "3.10.15"
  }
 },
 "nbformat": 4,
 "nbformat_minor": 2
}
