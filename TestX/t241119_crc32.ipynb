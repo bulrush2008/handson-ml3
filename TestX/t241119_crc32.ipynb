{
 "cells": [
  {
   "cell_type": "code",
   "execution_count": 1,
   "metadata": {},
   "outputs": [
    {
     "name": "stdout",
     "output_type": "stream",
     "text": [
      "i=0, h8=1696784233\n",
      "i=1, h8=2844319735\n",
      "i=2, h8=654825492\n",
      "i=3, h8=3954038922\n",
      "i=4, h8=3781742995\n",
      "i=5, h8=767742221\n",
      "i=6, h8=2739787502\n",
      "i=7, h8=1877464688\n",
      "i=8, h8=3066545372\n",
      "i=9, h8=2054014018\n",
      "-------------\n",
      "i=0, h4=558161692\n",
      "i=1, h4=2583214201\n",
      "i=2, h4=2337085335\n",
      "i=3, h4=871461106\n",
      "i=4, h4=2921744459\n",
      "i=5, h4=379203374\n",
      "i=6, h4=70222016\n",
      "i=7, h4=3163809701\n",
      "i=8, h4=3840997363\n",
      "i=9, h4=1548521622\n",
      "4294967296\n"
     ]
    }
   ],
   "source": [
    "# test zlib.crc32\n",
    "\n",
    "from zlib import crc32\n",
    "import numpy as np\n",
    "\n",
    "for i in range(10):\n",
    "  h8 = crc32(np.int64(i))\n",
    "  print(f\"i={i}, h8={h8}\")\n",
    "\n",
    "print(\"-------------\")\n",
    "\n",
    "for i in range(10):\n",
    "  h4 = crc32(np.int32(i))\n",
    "  print(f\"i={i}, h4={h4}\")\n",
    "\n",
    "print(2**32)\n"
   ]
  },
  {
   "cell_type": "code",
   "execution_count": 4,
   "metadata": {},
   "outputs": [
    {
     "data": {
      "text/plain": [
       "numpy.int64"
      ]
     },
     "execution_count": 4,
     "metadata": {},
     "output_type": "execute_result"
    }
   ],
   "source": [
    "import pandas as pd\n",
    "\n",
    "s = pd.Series([1,2,3,4,10])\n",
    "\n",
    "type(s[0])\n"
   ]
  },
  {
   "cell_type": "code",
   "execution_count": 9,
   "metadata": {},
   "outputs": [
    {
     "name": "stdout",
     "output_type": "stream",
     "text": [
      "4294967296\n"
     ]
    }
   ],
   "source": [
    "print(2**32)"
   ]
  }
 ],
 "metadata": {
  "kernelspec": {
   "display_name": "GeronE3",
   "language": "python",
   "name": "python3"
  },
  "language_info": {
   "codemirror_mode": {
    "name": "ipython",
    "version": 3
   },
   "file_extension": ".py",
   "mimetype": "text/x-python",
   "name": "python",
   "nbconvert_exporter": "python",
   "pygments_lexer": "ipython3",
   "version": "3.12.7"
  }
 },
 "nbformat": 4,
 "nbformat_minor": 2
}
