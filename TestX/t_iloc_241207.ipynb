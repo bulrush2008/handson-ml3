{
 "cells": [
  {
   "cell_type": "markdown",
   "metadata": {},
   "source": [
    "测试 Series"
   ]
  },
  {
   "cell_type": "code",
   "execution_count": 1,
   "metadata": {},
   "outputs": [
    {
     "name": "stdout",
     "output_type": "stream",
     "text": [
      "0    11\n",
      "1    25\n",
      "2    33\n",
      "3    49\n",
      "dtype: int64\n",
      "<class 'pandas.core.series.Series'>\n"
     ]
    }
   ],
   "source": [
    "import pandas as pd\n",
    "\n",
    "a = [11,25,33,49]\n",
    "b = [2,3,4,5]\n",
    "c = [3,4,5,6]\n",
    "\n",
    "a1 = pd.Series(a)\n",
    "print(a1); print(type(a1))"
   ]
  },
  {
   "cell_type": "markdown",
   "metadata": {},
   "source": [
    "Test dataFrame"
   ]
  },
  {
   "cell_type": "code",
   "execution_count": 6,
   "metadata": {},
   "outputs": [
    {
     "name": "stdout",
     "output_type": "stream",
     "text": [
      "25\n",
      "2    33\n",
      "3    49\n",
      "dtype: int64\n"
     ]
    }
   ],
   "source": [
    "print(a1[1]); print(a1[2:])"
   ]
  },
  {
   "cell_type": "code",
   "execution_count": 8,
   "metadata": {},
   "outputs": [
    {
     "data": {
      "text/plain": [
       "x    25\n",
       "y    33\n",
       "z    49\n",
       "dtype: int64"
      ]
     },
     "execution_count": 8,
     "metadata": {},
     "output_type": "execute_result"
    }
   ],
   "source": [
    "b1 = pd.Series(a[1:], index=[\"x\", \"y\", \"z\"])\n",
    "b1"
   ]
  },
  {
   "cell_type": "code",
   "execution_count": 9,
   "metadata": {},
   "outputs": [
    {
     "data": {
      "text/plain": [
       "25"
      ]
     },
     "execution_count": 9,
     "metadata": {},
     "output_type": "execute_result"
    }
   ],
   "source": [
    "b1[\"x\"]"
   ]
  },
  {
   "cell_type": "code",
   "execution_count": null,
   "metadata": {},
   "outputs": [
    {
     "data": {
      "text/plain": [
       "25"
      ]
     },
     "execution_count": 14,
     "metadata": {},
     "output_type": "execute_result"
    }
   ],
   "source": [
    "#b1[0] # deprecated\n",
    "b1.iloc[0]  # right, which is consistent with use of DataFrame class"
   ]
  },
  {
   "cell_type": "code",
   "execution_count": 16,
   "metadata": {},
   "outputs": [
    {
     "name": "stdout",
     "output_type": "stream",
     "text": [
      "0    a\n",
      "1    b\n",
      "2    c\n",
      "Name: vals, dtype: object <class 'pandas.core.series.Series'>\n",
      "vals\n"
     ]
    }
   ],
   "source": [
    "s = pd.Series([\"a\", \"b\", \"c\"], name=\"vals\") # name 关键字 什么意思？该 Series 对象的名称\n",
    "print(s, type(s))\n",
    "print(s.name) # \"vals\""
   ]
  },
  {
   "cell_type": "code",
   "execution_count": 18,
   "metadata": {},
   "outputs": [
    {
     "name": "stdout",
     "output_type": "stream",
     "text": [
      "  vals\n",
      "0    a\n",
      "1    b\n",
      "2    c\n",
      "<class 'pandas.core.frame.DataFrame'>\n"
     ]
    }
   ],
   "source": [
    "f = s.to_frame()\n",
    "print(f)\n",
    "print(type(f))"
   ]
  },
  {
   "cell_type": "code",
   "execution_count": 26,
   "metadata": {},
   "outputs": [
    {
     "name": "stdout",
     "output_type": "stream",
     "text": [
      "   1  2\n",
      "0  1  A\n",
      "1  2  A\n",
      "2  3  D\n",
      "3  4  B\n",
      "   Order Level\n",
      "0      1     A\n",
      "1      2     A\n",
      "2      3     D\n",
      "3      4     B\n"
     ]
    }
   ],
   "source": [
    "# 多个具有共同 Index、大小的 Series 数据，构成 DataFrame\n",
    "a = pd.Series([1,2,3,4])\n",
    "b = pd.Series([\"A\", \"A\", \"D\", \"B\"])\n",
    "\n",
    "df = pd.DataFrame({\"1\":a, \"2\":b}) # !莫要忘记花括号\n",
    "print(df)\n",
    "\n",
    "df1 = pd.DataFrame({\"Order\":a,\"Level\":b})\n",
    "print(df1)"
   ]
  },
  {
   "cell_type": "markdown",
   "metadata": {},
   "source": [
    "# 总结\n",
    "- 从简单的列表/list，可以构建一个 Series 对象。这个对象，可以有名字、和 index/序号；\n",
    "- 从列表到二维 DataFrame，需要\n",
    "  - 每个 Series 对象构成一个列，需要给每个列一个“character”标题；\n",
    "  - 将所有 Series 用花括号围起来，统一作为输入"
   ]
  },
  {
   "cell_type": "markdown",
   "metadata": {},
   "source": []
  }
 ],
 "metadata": {
  "kernelspec": {
   "display_name": "GeronE3",
   "language": "python",
   "name": "python3"
  },
  "language_info": {
   "codemirror_mode": {
    "name": "ipython",
    "version": 3
   },
   "file_extension": ".py",
   "mimetype": "text/x-python",
   "name": "python",
   "nbconvert_exporter": "python",
   "pygments_lexer": "ipython3",
   "version": "3.10.15"
  }
 },
 "nbformat": 4,
 "nbformat_minor": 2
}
