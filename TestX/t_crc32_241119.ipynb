{
 "cells": [
  {
   "cell_type": "code",
   "execution_count": 10,
   "metadata": {},
   "outputs": [
    {
     "name": "stdout",
     "output_type": "stream",
     "text": [
      "i=0, h=1696784233\n",
      "i=1, h=2844319735\n",
      "i=2, h=654825492\n",
      "i=3, h=3954038922\n",
      "i=4, h=3781742995\n",
      "i=5, h=767742221\n",
      "i=6, h=2739787502\n",
      "i=7, h=1877464688\n",
      "i=8, h=3066545372\n",
      "i=9, h=2054014018\n",
      "-------------\n",
      "i=0, h=558161692\n",
      "i=1, h=2583214201\n",
      "i=2, h=2337085335\n",
      "i=3, h=871461106\n",
      "i=4, h=2921744459\n",
      "i=5, h=379203374\n",
      "i=6, h=70222016\n",
      "i=7, h=3163809701\n",
      "i=8, h=3840997363\n",
      "i=9, h=1548521622\n",
      "4294967296\n"
     ]
    }
   ],
   "source": [
    "# test zlib.crc32\n",
    "\n",
    "from zlib import crc32\n",
    "import numpy as np\n",
    "\n",
    "for i in range(10):\n",
    "  h = crc32(np.int64(i))\n",
    "  print(f\"i={i}, h={h}\")\n",
    "\n",
    "print(\"-------------\")\n",
    "\n",
    "for i in range(10):\n",
    "  h = crc32(np.int32(i))\n",
    "  print(f\"i={i}, h={h}\")\n",
    "\n",
    "print(2**32)\n"
   ]
  },
  {
   "cell_type": "code",
   "execution_count": 7,
   "metadata": {},
   "outputs": [
    {
     "data": {
      "text/plain": [
       "numpy.int64"
      ]
     },
     "execution_count": 7,
     "metadata": {},
     "output_type": "execute_result"
    }
   ],
   "source": [
    "import pandas as pd\n",
    "\n",
    "s = pd.Series([1,2,3,4,10])\n",
    "\n",
    "type(s[0])\n"
   ]
  },
  {
   "cell_type": "code",
   "execution_count": 9,
   "metadata": {},
   "outputs": [
    {
     "name": "stdout",
     "output_type": "stream",
     "text": [
      "4294967296\n"
     ]
    }
   ],
   "source": [
    "print(2**32)"
   ]
  }
 ],
 "metadata": {
  "kernelspec": {
   "display_name": "GeronE3",
   "language": "python",
   "name": "python3"
  },
  "language_info": {
   "codemirror_mode": {
    "name": "ipython",
    "version": 3
   },
   "file_extension": ".py",
   "mimetype": "text/x-python",
   "name": "python",
   "nbconvert_exporter": "python",
   "pygments_lexer": "ipython3",
   "version": "3.10.15"
  }
 },
 "nbformat": 4,
 "nbformat_minor": 2
}
